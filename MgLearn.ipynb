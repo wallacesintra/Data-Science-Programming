{
 "cells": [
  {
   "cell_type": "code",
   "execution_count": 2,
   "id": "552c40a2-c097-49a3-8e4d-04de755d6c1d",
   "metadata": {},
   "outputs": [
    {
     "name": "stdout",
     "output_type": "stream",
     "text": [
      "Defaulting to user installation because normal site-packages is not writeable\n",
      "Collecting mglearn\n",
      "  Downloading mglearn-0.2.0-py2.py3-none-any.whl (581 kB)\n",
      "\u001b[2K     \u001b[38;2;114;156;31m━━━━━━━━━━━━━━━━━━━━━━━━━━━━━━━━━━━━━\u001b[0m \u001b[32m581.4/581.4 KB\u001b[0m \u001b[31m788.0 kB/s\u001b[0m eta \u001b[36m0:00:00\u001b[0m kB/s\u001b[0m eta \u001b[36m0:00:01\u001b[0m:01\u001b[0m\n",
      "\u001b[?25hRequirement already satisfied: numpy in /home/wallace/.local/lib/python3.10/site-packages (from mglearn) (1.26.4)\n",
      "Collecting imageio\n",
      "  Downloading imageio-2.34.1-py3-none-any.whl (313 kB)\n",
      "\u001b[2K     \u001b[38;2;114;156;31m━━━━━━━━━━━━━━━━━━━━━━━━━━━━━━━━━━━━━━━\u001b[0m \u001b[32m313.5/313.5 KB\u001b[0m \u001b[31m2.5 MB/s\u001b[0m eta \u001b[36m0:00:00\u001b[0m[36m0:00:01\u001b[0mm eta \u001b[36m0:00:01\u001b[0m\n",
      "\u001b[?25hRequirement already satisfied: joblib in /home/wallace/.local/lib/python3.10/site-packages (from mglearn) (1.4.2)\n",
      "Requirement already satisfied: pillow in /usr/lib/python3/dist-packages (from mglearn) (9.0.1)\n",
      "Requirement already satisfied: pandas in /home/wallace/.local/lib/python3.10/site-packages (from mglearn) (2.2.2)\n",
      "Requirement already satisfied: matplotlib in /usr/lib/python3/dist-packages (from mglearn) (3.5.1)\n",
      "Requirement already satisfied: cycler in /home/wallace/.local/lib/python3.10/site-packages (from mglearn) (0.12.1)\n",
      "Requirement already satisfied: scikit-learn in /home/wallace/.local/lib/python3.10/site-packages (from mglearn) (1.5.0)\n",
      "Requirement already satisfied: pytz>=2020.1 in /usr/lib/python3/dist-packages (from pandas->mglearn) (2022.1)\n",
      "Requirement already satisfied: python-dateutil>=2.8.2 in /home/wallace/.local/lib/python3.10/site-packages (from pandas->mglearn) (2.9.0.post0)\n",
      "Requirement already satisfied: tzdata>=2022.7 in /home/wallace/.local/lib/python3.10/site-packages (from pandas->mglearn) (2024.1)\n",
      "Requirement already satisfied: scipy>=1.6.0 in /home/wallace/.local/lib/python3.10/site-packages (from scikit-learn->mglearn) (1.13.0)\n",
      "Requirement already satisfied: threadpoolctl>=3.1.0 in /home/wallace/.local/lib/python3.10/site-packages (from scikit-learn->mglearn) (3.5.0)\n",
      "Requirement already satisfied: six>=1.5 in /usr/lib/python3/dist-packages (from python-dateutil>=2.8.2->pandas->mglearn) (1.16.0)\n",
      "Installing collected packages: imageio, mglearn\n",
      "Successfully installed imageio-2.34.1 mglearn-0.2.0\n",
      "Note: you may need to restart the kernel to use updated packages.\n"
     ]
    }
   ],
   "source": [
    "pip install mglearn"
   ]
  },
  {
   "cell_type": "code",
   "execution_count": 1,
   "id": "eb1e4fc4-dcee-4cf2-b39d-ed1b2becce51",
   "metadata": {},
   "outputs": [
    {
     "name": "stdout",
     "output_type": "stream",
     "text": [
      "Train score: 0.95\n",
      "Train score: 0.61\n"
     ]
    }
   ],
   "source": [
    "import mglearn\n",
    "from sklearn.model_selection import train_test_split\n",
    "from sklearn.linear_model import LinearRegression\n",
    "\n",
    "X, y = mglearn.datasets.load_extended_boston()\n",
    "\n",
    "X_train, X_test, y_train, y_test = train_test_split(X, y, random_state = 0)\n",
    "\n",
    "lr = LinearRegression().fit(X_train, y_train)\n",
    "\n",
    "print(\"Train score: {:.2f}\". format(lr.score(X_train, y_train)))\n",
    "print(\"Train score: {:.2f}\". format(lr.score(X_test, y_test)))\n"
   ]
  },
  {
   "cell_type": "code",
   "execution_count": null,
   "id": "a64d6357-7c2f-440a-a9bc-4d1deae1bebb",
   "metadata": {},
   "outputs": [],
   "source": []
  }
 ],
 "metadata": {
  "kernelspec": {
   "display_name": "Python 3 (ipykernel)",
   "language": "python",
   "name": "python3"
  },
  "language_info": {
   "codemirror_mode": {
    "name": "ipython",
    "version": 3
   },
   "file_extension": ".py",
   "mimetype": "text/x-python",
   "name": "python",
   "nbconvert_exporter": "python",
   "pygments_lexer": "ipython3",
   "version": "3.10.12"
  }
 },
 "nbformat": 4,
 "nbformat_minor": 5
}
